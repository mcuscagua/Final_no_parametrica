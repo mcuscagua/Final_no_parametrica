{
 "cells": [
  {
   "cell_type": "code",
   "execution_count": 1,
   "metadata": {},
   "outputs": [],
   "source": [
    "import read_data as imp\n",
    "import numpy as np\n",
    "import pandas as pd\n",
    "import matplotlib.pyplot as plt\n",
    "\n",
    "import plotly.graph_objects as go\n",
    "\n",
    "import warnings\n",
    "warnings.filterwarnings(\"ignore\")"
   ]
  },
  {
   "cell_type": "code",
   "execution_count": 2,
   "metadata": {},
   "outputs": [],
   "source": [
    "symbols = ['XLP','XLY','XLE','XLF','XLV','XLI','XLK','XLU']\n",
    "years = [x for x in range(2000,2019)]\n",
    "hist_data = imp.organizarTodo(symbols,years)\n",
    "\n",
    "Daily_Assets = pd.DataFrame()\n",
    "Daily_Log_Assets = pd.DataFrame()\n",
    "\n",
    "for asset,df in hist_data.items():\n",
    "    Daily_Assets[asset] = df['Close']\n",
    "    Daily_Log_Assets[asset] = np.log(df['Close']/df['Close'].shift(1))"
   ]
  },
  {
   "cell_type": "code",
   "execution_count": 3,
   "metadata": {},
   "outputs": [],
   "source": [
    "Assets = pd.read_csv('Data.csv')\n",
    "Assets.set_index('Date', inplace=True)\n",
    "Assets.index = pd.to_datetime(Assets.index)\n",
    "Log_Assets = np.log(Assets/Assets.shift(1))"
   ]
  },
  {
   "cell_type": "code",
   "execution_count": 10,
   "metadata": {},
   "outputs": [
    {
     "data": {
      "text/plain": [
       "True"
      ]
     },
     "execution_count": 10,
     "metadata": {},
     "output_type": "execute_result"
    }
   ],
   "source": [
    "Daily_Assets.index[i] in Assets.index"
   ]
  },
  {
   "cell_type": "code",
   "execution_count": 8,
   "metadata": {},
   "outputs": [
    {
     "ename": "IndentationError",
     "evalue": "expected an indented block (<ipython-input-8-191ddc6a654b>, line 14)",
     "output_type": "error",
     "traceback": [
      "\u001b[1;36m  File \u001b[1;32m\"<ipython-input-8-191ddc6a654b>\"\u001b[1;36m, line \u001b[1;32m14\u001b[0m\n\u001b[1;33m    all_weights = np.zeros((num_ports, len(Assets.columns)))\u001b[0m\n\u001b[1;37m              ^\u001b[0m\n\u001b[1;31mIndentationError\u001b[0m\u001b[1;31m:\u001b[0m expected an indented block\n"
     ]
    }
   ],
   "source": [
    "np.random.seed(42)\n",
    "num_ports = 100\n",
    "\n",
    "T_N = 6\n",
    "the_start = np.where(Daily_Assets.index == Assets.index[T_N])[0][0]\n",
    "\n",
    "Mark_Ret = np.zeros(Daily_Assets.shape[0]-the_start)\n",
    "\n",
    "Curr_Wi = np.zeros(len(Assets.columns))\n",
    "\n",
    "for i in range(the_start, Daily_Assets.shape[0]):\n",
    "    \n",
    "    if Daily_Assets.index[i] in Assets.index:\n",
    "        all_weights = np.zeros((num_ports, len(Assets.columns)))\n",
    "        ret_arr = np.zeros(num_ports)\n",
    "        vol_arr = np.zeros(num_ports)\n",
    "        sharpe_arr = np.zeros(num_ports)\n",
    "\n",
    "        for x in range(num_ports):\n",
    "            # Weights\n",
    "            weights = np.array(np.random.random(len(Assets.columns)))\n",
    "            weights = weights/np.sum(weights)\n",
    "\n",
    "            # Save weights\n",
    "            all_weights[x,:] = weights\n",
    "\n",
    "            # Expected return\n",
    "            ret_arr[x] = np.sum((Log_Assets.mean() * weights * 252))\n",
    "\n",
    "            # Expected volatility\n",
    "            vol_arr[x] = np.sqrt(np.dot(weights.T, np.dot(Log_Assets.cov()*252, weights)))\n",
    "\n",
    "            # Sharpe Ratio\n",
    "            sharpe_arr[x] = ret_arr[x]/vol_arr[x]\n",
    "        \n",
    "        \n",
    "    else:\n",
    "        \n",
    "    \n",
    "\n"
   ]
  },
  {
   "cell_type": "code",
   "execution_count": null,
   "metadata": {},
   "outputs": [],
   "source": [
    "print('Max sharpe ratio in the array: {}'.format(sharpe_arr.max()))\n",
    "print('Its location in the array: {}'.format(sharpe_arr.argmax()))"
   ]
  },
  {
   "cell_type": "code",
   "execution_count": null,
   "metadata": {},
   "outputs": [],
   "source": [
    "print(np.round(all_weights[sharpe_arr.argmax(),:], decimals = 3))\n",
    "\n",
    "max_sr_ret = ret_arr[sharpe_arr.argmax()]\n",
    "max_sr_vol = vol_arr[sharpe_arr.argmax()]"
   ]
  },
  {
   "cell_type": "code",
   "execution_count": null,
   "metadata": {},
   "outputs": [],
   "source": [
    "np.round(all_weights[sharpe_arr.argmax(),:], decimals = 3).sum()"
   ]
  },
  {
   "cell_type": "code",
   "execution_count": null,
   "metadata": {},
   "outputs": [],
   "source": [
    "\n",
    "plt.figure(figsize=(12,8))\n",
    "plt.scatter(vol_arr, ret_arr, c=sharpe_arr, cmap='viridis')\n",
    "plt.colorbar(label='Sharpe Ratio')\n",
    "plt.xlabel('Volatility')\n",
    "plt.ylabel('Return')\n",
    "plt.scatter(max_sr_vol, max_sr_ret,c='red', s=50) # red dot\n",
    "plt.show()"
   ]
  },
  {
   "cell_type": "code",
   "execution_count": null,
   "metadata": {},
   "outputs": [],
   "source": []
  },
  {
   "cell_type": "code",
   "execution_count": null,
   "metadata": {},
   "outputs": [],
   "source": []
  },
  {
   "cell_type": "code",
   "execution_count": null,
   "metadata": {},
   "outputs": [],
   "source": []
  },
  {
   "cell_type": "code",
   "execution_count": null,
   "metadata": {},
   "outputs": [],
   "source": []
  },
  {
   "cell_type": "code",
   "execution_count": null,
   "metadata": {},
   "outputs": [],
   "source": []
  },
  {
   "cell_type": "code",
   "execution_count": null,
   "metadata": {},
   "outputs": [],
   "source": []
  },
  {
   "cell_type": "code",
   "execution_count": null,
   "metadata": {},
   "outputs": [],
   "source": []
  },
  {
   "cell_type": "code",
   "execution_count": null,
   "metadata": {},
   "outputs": [],
   "source": []
  },
  {
   "cell_type": "code",
   "execution_count": null,
   "metadata": {},
   "outputs": [],
   "source": []
  }
 ],
 "metadata": {
  "kernelspec": {
   "display_name": "Python 3",
   "language": "python",
   "name": "python3"
  },
  "language_info": {
   "codemirror_mode": {
    "name": "ipython",
    "version": 3
   },
   "file_extension": ".py",
   "mimetype": "text/x-python",
   "name": "python",
   "nbconvert_exporter": "python",
   "pygments_lexer": "ipython3",
   "version": "3.7.3"
  }
 },
 "nbformat": 4,
 "nbformat_minor": 2
}
