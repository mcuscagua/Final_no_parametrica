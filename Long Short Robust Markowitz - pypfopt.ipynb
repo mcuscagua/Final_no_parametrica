{
 "cells": [
  {
   "cell_type": "code",
   "execution_count": null,
   "metadata": {},
   "outputs": [],
   "source": [
    "import warnings\n",
    "warnings.filterwarnings(\"ignore\")\n",
    "\n",
    "import read_data as imp\n",
    "import numpy as np\n",
    "import pandas as pd\n",
    "import matplotlib.pyplot as plt\n",
    "from sklearn.covariance import LedoitWolf\n",
    "import pyfolio\n",
    "\n",
    "from pypfopt.efficient_frontier import EfficientFrontier\n",
    "from pypfopt import risk_models\n",
    "from pypfopt import expected_returns"
   ]
  },
  {
   "cell_type": "code",
   "execution_count": null,
   "metadata": {},
   "outputs": [],
   "source": [
    "def find_median(x):\n",
    "    aux = [0 for k in range(x.shape[0])]\n",
    "    for i in range(x.shape[0]):\n",
    "        for j in range(x.shape[0]):\n",
    "            aux[i] += np.linalg.norm(x.iloc[i,]-x.iloc[j,])\n",
    "    return x.iloc[aux == min(aux),].iloc[0,]"
   ]
  },
  {
   "cell_type": "code",
   "execution_count": null,
   "metadata": {},
   "outputs": [],
   "source": [
    "base = 252\n",
    "\n",
    "symbols = ['XLP','XLY','XLE','XLF','XLV','XLI','XLK','XLU']\n",
    "years = [x for x in range(2000,2019)]\n",
    "hist_data = imp.organizarTodo(symbols,years)\n",
    "\n",
    "Daily_Assets = pd.DataFrame()\n",
    "Daily_Log_Assets = pd.DataFrame()\n",
    "\n",
    "for asset,df in hist_data.items():\n",
    "    Daily_Assets[asset] = df['Close']\n",
    "    Daily_Log_Assets[asset] = np.log(df['Close']/df['Close'].shift(1))\n",
    "#     Daily_Log_Assets[asset] = df['Close']/df['Close'].shift(1)-1"
   ]
  },
  {
   "cell_type": "code",
   "execution_count": null,
   "metadata": {},
   "outputs": [],
   "source": [
    "Assets = pd.read_csv('Data.csv')\n",
    "Assets.set_index('Date', inplace=True)\n",
    "Assets.index = pd.to_datetime(Assets.index)\n",
    "Log_Assets = np.log(Assets/Assets.shift(1))\n",
    "Log_Assets = Log_Assets.dropna()"
   ]
  },
  {
   "cell_type": "code",
   "execution_count": null,
   "metadata": {},
   "outputs": [],
   "source": [
    "np.random.seed(42)\n",
    "num_ports = 2\n",
    "\n",
    "T_N = 6\n",
    "the_start = np.where(Daily_Assets.index == Log_Assets.index[T_N])[0][0]\n",
    "\n",
    "com = 0.0015\n",
    "BidAskSpread = 0.00016"
   ]
  },
  {
   "cell_type": "code",
   "execution_count": null,
   "metadata": {},
   "outputs": [],
   "source": [
    "Mark_Ret = np.zeros(Daily_Assets.shape[0]-the_start)\n",
    "RMark_Ret = np.zeros(Daily_Assets.shape[0]-the_start)\n",
    "R2Mark_Ret = np.zeros(Daily_Assets.shape[0]-the_start)\n",
    "\n",
    "Curr_Wi = np.zeros(len(Assets.columns))\n",
    "RCurr_Wi = np.zeros(len(Assets.columns))\n",
    "R2Curr_Wi = np.zeros(len(Assets.columns))\n",
    "\n",
    "WC = pd.DataFrame(index=Log_Assets.index, columns= Log_Assets.columns)\n",
    "WR = pd.DataFrame(index=Log_Assets.index, columns= Log_Assets.columns)\n",
    "WR2 = pd.DataFrame(index=Log_Assets.index, columns= Log_Assets.columns)\n",
    "\n",
    "indaux = T_N\n",
    "\n",
    "for i in range(the_start, Daily_Assets.shape[0]):\n",
    "        \n",
    "    if Daily_Assets.index[i] in Log_Assets.index:\n",
    "        \n",
    "        # Classic\n",
    "        mu = base * Log_Assets.iloc[indaux-T_N:indaux,:].mean()\n",
    "        S = base * Log_Assets.iloc[indaux-T_N:indaux,:].cov()\n",
    "\n",
    "        ef = EfficientFrontier(mu, S, weight_bounds=(-1, 1))\n",
    "        ef.max_sharpe()\n",
    "        Curr_Wi = np.array([x for y,x in ef.clean_weights().items()])\n",
    "        \n",
    "        # Margin Median\n",
    "        mu = base * Log_Assets.iloc[indaux-T_N:indaux,:].median()\n",
    "        LW_Cov = LedoitWolf().fit(Log_Assets.iloc[indaux-T_N:indaux,:]).covariance_\n",
    "        S = base * LW_Cov\n",
    "\n",
    "        ef = EfficientFrontier(mu, S, weight_bounds=(-1, 1))\n",
    "        ef.max_sharpe()\n",
    "        RCurr_Wi = np.array([x for y,x in ef.clean_weights().items()])\n",
    "        \n",
    "        # Indicator Median\n",
    "        mu = base * find_median(Log_Assets.iloc[indaux-T_N:indaux,:])\n",
    "        LW_Cov = LedoitWolf().fit(Log_Assets.iloc[indaux-T_N:indaux,:]).covariance_\n",
    "        S = base * LW_Cov\n",
    "\n",
    "        ef = EfficientFrontier(mu, S, weight_bounds=(-1, 1))\n",
    "        ef.max_sharpe()\n",
    "        R2Curr_Wi = np.array([x for y,x in ef.clean_weights().items()])\n",
    "        \n",
    "        # Saving Weights\n",
    "        \n",
    "        WC.iloc[indaux,] = Curr_Wi\n",
    "        WR.iloc[indaux,] = RCurr_Wi\n",
    "        WR2.iloc[indaux,] = R2Curr_Wi\n",
    "        \n",
    "        Mark_Ret[i-the_start] = np.dot(Daily_Log_Assets.iloc[i,],Curr_Wi)*(1-com)*(1-BidAskSpread)\n",
    "        RMark_Ret[i-the_start] = np.dot(Daily_Log_Assets.iloc[i,],RCurr_Wi)*(1-com)*(1-BidAskSpread)\n",
    "        R2Mark_Ret[i-the_start] = np.dot(Daily_Log_Assets.iloc[i,],R2Curr_Wi)*(1-com)*(1-BidAskSpread)\n",
    "        \n",
    "        indaux += 1\n",
    "    else:\n",
    "        Mark_Ret[i-the_start] = np.dot(Daily_Log_Assets.iloc[i,],Curr_Wi)\n",
    "        RMark_Ret[i-the_start] = np.dot(Daily_Log_Assets.iloc[i,],RCurr_Wi)\n",
    "        R2Mark_Ret[i-the_start] = np.dot(Daily_Log_Assets.iloc[i,],R2Curr_Wi)"
   ]
  },
  {
   "cell_type": "markdown",
   "metadata": {},
   "source": [
    "## Weights Behivor"
   ]
  },
  {
   "cell_type": "code",
   "execution_count": null,
   "metadata": {
    "scrolled": true
   },
   "outputs": [],
   "source": [
    "for asset in symbols:\n",
    "    plt.figure(figsize=(17,17))\n",
    "    plt.plot(WC[asset][100:150])\n",
    "    plt.plot(WR[asset][100:150])\n",
    "    plt.plot(WR2[asset][100:150])\n",
    "    plt.legend(['Classic', 'Robust', 'Robust2'])\n",
    "    plt.show()"
   ]
  },
  {
   "cell_type": "markdown",
   "metadata": {},
   "source": [
    "## Comparison"
   ]
  },
  {
   "cell_type": "code",
   "execution_count": null,
   "metadata": {},
   "outputs": [],
   "source": [
    "Markowitz_Comparison = pd.DataFrame()\n",
    "Markowitz_Comparison['Classic'] = Mark_Ret\n",
    "Markowitz_Comparison['Robust'] = RMark_Ret\n",
    "Markowitz_Comparison['Robust2'] = R2Mark_Ret\n",
    "Markowitz_Comparison.index = Daily_Assets.index[the_start:]\n",
    "Markowitz_Comparison = Markowitz_Comparison.astype(float)"
   ]
  },
  {
   "cell_type": "code",
   "execution_count": null,
   "metadata": {},
   "outputs": [],
   "source": [
    "Markowitz_Comparison.to_excel('Resultados 10k portafolios.xlsx')"
   ]
  },
  {
   "cell_type": "code",
   "execution_count": null,
   "metadata": {
    "scrolled": false
   },
   "outputs": [],
   "source": [
    "pyfolio.create_full_tear_sheet(Markowitz_Comparison['Robust2'], benchmark_rets=Markowitz_Comparison['Robust'])"
   ]
  },
  {
   "cell_type": "code",
   "execution_count": null,
   "metadata": {
    "scrolled": false
   },
   "outputs": [],
   "source": [
    "pyfolio.create_full_tear_sheet(Markowitz_Comparison['Robust'], benchmark_rets=Markowitz_Comparison['Classic'])"
   ]
  },
  {
   "cell_type": "code",
   "execution_count": null,
   "metadata": {},
   "outputs": [],
   "source": [
    "pyfolio.create_full_tear_sheet(Markowitz_Comparison['Robust2'], benchmark_rets=Markowitz_Comparison['Classic'])"
   ]
  },
  {
   "cell_type": "code",
   "execution_count": null,
   "metadata": {
    "scrolled": false
   },
   "outputs": [],
   "source": [
    "pyfolio.create_full_tear_sheet(Markowitz_Comparison['Classic'])#, benchmark_rets=Markowitz_Comparison['Classic'])"
   ]
  }
 ],
 "metadata": {
  "kernelspec": {
   "display_name": "Python 3",
   "language": "python",
   "name": "python3"
  },
  "language_info": {
   "codemirror_mode": {
    "name": "ipython",
    "version": 3
   },
   "file_extension": ".py",
   "mimetype": "text/x-python",
   "name": "python",
   "nbconvert_exporter": "python",
   "pygments_lexer": "ipython3",
   "version": "3.7.3"
  }
 },
 "nbformat": 4,
 "nbformat_minor": 2
}
