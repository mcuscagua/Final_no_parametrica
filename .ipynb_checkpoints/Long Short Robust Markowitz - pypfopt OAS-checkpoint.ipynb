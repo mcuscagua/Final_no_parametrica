{
 "cells": [
  {
   "cell_type": "code",
   "execution_count": 1,
   "metadata": {},
   "outputs": [
    {
     "name": "stderr",
     "output_type": "stream",
     "text": [
      "WARNING (theano.configdefaults): g++ not available, if using conda: `conda install m2w64-toolchain`\n",
      "WARNING (theano.configdefaults): g++ not detected ! Theano will be unable to execute optimized C-implementations (for both CPU and GPU) and will default to Python implementations. Performance will be severely degraded. To remove this warning, set Theano flags cxx to an empty string.\n",
      "WARNING (theano.tensor.blas): Using NumPy C-API based implementation for BLAS functions.\n"
     ]
    }
   ],
   "source": [
    "import warnings\n",
    "warnings.filterwarnings(\"ignore\")\n",
    "\n",
    "import read_data as imp\n",
    "import numpy as np\n",
    "import pandas as pd\n",
    "import scipy\n",
    "import matplotlib.pyplot as plt\n",
    "from sklearn.covariance import LedoitWolf, OAS\n",
    "import pyfolio\n",
    "\n",
    "from pypfopt.efficient_frontier import EfficientFrontier\n",
    "from pypfopt import risk_models\n",
    "from pypfopt import expected_returns"
   ]
  },
  {
   "cell_type": "code",
   "execution_count": 2,
   "metadata": {},
   "outputs": [],
   "source": [
    "def find_median(x):\n",
    "    aux = [0 for k in range(x.shape[0])]\n",
    "    for i in range(x.shape[0]):\n",
    "        for j in range(x.shape[0]):\n",
    "            aux[i] += np.linalg.norm(x.iloc[i,]-x.iloc[j,])\n",
    "    return x.iloc[aux == min(aux),].iloc[0,]"
   ]
  },
  {
   "cell_type": "code",
   "execution_count": 3,
   "metadata": {},
   "outputs": [],
   "source": [
    "base = 252\n",
    "\n",
    "symbols = pd.read_csv('Nemos.csv')['Nemo'].tolist()\n",
    "years = [x for x in range(2013,2019)]\n",
    "hist_data = imp.organizarTodo(symbols,years)\n",
    "\n",
    "Daily_Assets = pd.DataFrame()\n",
    "for asset,df in hist_data.items():\n",
    "    Daily_Assets[asset] = df['Close']\n",
    "    \n",
    "Daily_Log_Assets = Daily_Assets.pct_change()"
   ]
  },
  {
   "cell_type": "code",
   "execution_count": 4,
   "metadata": {},
   "outputs": [],
   "source": [
    "Initial_Date = pd.to_datetime('2014-01-01')\n",
    "\n",
    "Rebalancing_dates = [Initial_Date]\n",
    "curr_month = Initial_Date.month\n",
    "\n",
    "the_start = np.where(Initial_Date == Daily_Assets.index)[0].tolist()[0]\n",
    "\n",
    "for i in range((the_start+1), len(Daily_Assets.index)):\n",
    "    if Daily_Assets.index[i].month != curr_month:\n",
    "        Rebalancing_dates.append(Daily_Assets.index[i-1])\n",
    "        curr_month = Daily_Assets.index[i].month\n",
    "\n",
    "com = 0.0015\n",
    "BidAskSpread = 0.00016"
   ]
  },
  {
   "cell_type": "code",
   "execution_count": null,
   "metadata": {},
   "outputs": [],
   "source": [
    "Markowitz_Returns = pd.DataFrame(index = Daily_Assets.index[Daily_Assets.index >= Initial_Date],\n",
    "                                 columns = ['Clasico', 'Mediana', 'Mediana Indicadora', 'Indicadora Invertida'],\n",
    "                                 dtype = 'float')\n",
    "\n",
    "Curr_Wi = np.zeros(len(Daily_Assets.columns))\n",
    "RCurr_Wi = np.zeros(len(Daily_Assets.columns))\n",
    "R2Curr_Wi = np.zeros(len(Daily_Assets.columns))\n",
    "R3Curr_Wi = np.zeros(len(Daily_Assets.columns))\n",
    "\n",
    "WC = pd.DataFrame(index=Daily_Assets.index[Daily_Assets.index >= Initial_Date], columns= Daily_Assets.columns)\n",
    "WR = pd.DataFrame(index=Daily_Assets.index[Daily_Assets.index >= Initial_Date], columns= Daily_Assets.columns)\n",
    "WR2 = pd.DataFrame(index=Daily_Assets.index[Daily_Assets.index >= Initial_Date], columns= Daily_Assets.columns)\n",
    "WR3 = pd.DataFrame(index=Daily_Assets.index[Daily_Assets.index >= Initial_Date], columns= Daily_Assets.columns)\n",
    "\n",
    "Memory_time_window = base\n",
    "\n",
    "for i in Daily_Assets.index[Daily_Assets.index >= Initial_Date]:\n",
    "            \n",
    "    if i in Rebalancing_dates:\n",
    "        \n",
    "        end = np.where(i == Daily_Assets.index)[0].tolist()[0]\n",
    "        ini = end - Memory_time_window\n",
    "        \n",
    "        dfaux = Daily_Assets.iloc[ini:end,:].pct_change().dropna(how=\"all\").copy()\n",
    "               \n",
    "        \n",
    "        # Classic\n",
    "        \n",
    "        \n",
    "       \n",
    "        OAS_Cov = OAS(assume_centered=False).fit(dfaux).covariance_\n",
    "        \n",
    "        mu = base * dfaux.mean()\n",
    "        S = base * OAS_Cov\n",
    "\n",
    "        ef = EfficientFrontier(mu, S, weight_bounds=(-1, 1))\n",
    "        ef.max_sharpe()\n",
    "        Curr_Wi = np.array([x for y,x in ef.clean_weights().items()])\n",
    "        \n",
    "        \n",
    "        # Margin Median\n",
    "        \n",
    "        mu = base * dfaux.median()\n",
    "        OAS_Cov = OAS(assume_centered=False).fit(dfaux).covariance_\n",
    "        \n",
    "        S = base * OAS_Cov\n",
    "\n",
    "        ef = EfficientFrontier(mu, S, weight_bounds=(-1, 1))\n",
    "        ef.max_sharpe()\n",
    "        RCurr_Wi = np.array([x for y,x in ef.clean_weights().items()])\n",
    "        \n",
    "        # Indicator Median\n",
    "        mu = base * find_median(dfaux)\n",
    "        OAS_Cov = OAS(assume_centered=False).fit(dfaux).covariance_\n",
    "        \n",
    "        S = base * OAS_Cov\n",
    "\n",
    "        ef = EfficientFrontier(mu, S, weight_bounds=(-1, 1))\n",
    "        ef.max_sharpe()\n",
    "        R2Curr_Wi = np.array([x for y,x in ef.clean_weights().items()])\n",
    "        \n",
    "        R3Curr_Wi = -R2Curr_Wi.copy()\n",
    "        \n",
    "        # Saving Weights\n",
    "        \n",
    "        WC.loc[i,] = Curr_Wi\n",
    "        WR.loc[i,] = RCurr_Wi\n",
    "        WR2.loc[i,] = R2Curr_Wi\n",
    "        WR3.loc[i,] = R3Curr_Wi\n",
    "        \n",
    "        Markowitz_Returns.loc[i, ['Clasico']] = np.dot(Daily_Log_Assets.loc[i,],Curr_Wi)*(1-com)*(1-BidAskSpread)\n",
    "        Markowitz_Returns.loc[i, ['Mediana']] = np.dot(Daily_Log_Assets.loc[i,],RCurr_Wi)*(1-com)*(1-BidAskSpread)\n",
    "        Markowitz_Returns.loc[i, ['Mediana Indicadora']] = np.dot(Daily_Log_Assets.loc[i,],R2Curr_Wi)*(1-com)*(1-BidAskSpread)\n",
    "        Markowitz_Returns.loc[i, ['Indicadora Invertida']] = np.dot(Daily_Log_Assets.loc[i,],R3Curr_Wi)*(1-com)*(1-BidAskSpread)\n",
    "    else:\n",
    "        Markowitz_Returns.loc[i, ['Clasico']] = np.dot(Daily_Log_Assets.loc[i,],Curr_Wi)\n",
    "        Markowitz_Returns.loc[i, ['Mediana']] = np.dot(Daily_Log_Assets.loc[i,],RCurr_Wi)\n",
    "        Markowitz_Returns.loc[i, ['Mediana Indicadora']] = np.dot(Daily_Log_Assets.loc[i,],R2Curr_Wi)\n",
    "        Markowitz_Returns.loc[i, ['Indicadora Invertida']] = np.dot(Daily_Log_Assets.loc[i,],R3Curr_Wi)"
   ]
  },
  {
   "cell_type": "markdown",
   "metadata": {},
   "source": [
    "## Weights Behivor"
   ]
  },
  {
   "cell_type": "code",
   "execution_count": null,
   "metadata": {
    "scrolled": true
   },
   "outputs": [],
   "source": [
    "# for asset in symbols:\n",
    "#     plt.figure(figsize=(17,17))\n",
    "#     plt.plot(WC[asset][100:150])\n",
    "#     plt.plot(WR[asset][100:150])\n",
    "#     plt.plot(WR2[asset][100:150])\n",
    "#     plt.legend(['Classic', 'Robust', 'Robust2'])\n",
    "#     plt.show()"
   ]
  },
  {
   "cell_type": "markdown",
   "metadata": {},
   "source": [
    "## Comparison"
   ]
  },
  {
   "cell_type": "code",
   "execution_count": null,
   "metadata": {},
   "outputs": [],
   "source": [
    "Markowitz_Returns.to_excel('Resultados portafolios Long Short LDL.xlsx')\n",
    "WC.to_excel('Historico Pesos Clasico Long Short LDL.xlsx')\n",
    "WR.to_excel('Historico Pesos Mediana Long Short LDL.xlsx')\n",
    "WR2.to_excel('Historico Pesos Indicadora Long Short LDL.xlsx')\n",
    "WR3.to_excel('Historico Pesos Indicadora Inversa Long Short LDL.xlsx') "
   ]
  },
  {
   "cell_type": "code",
   "execution_count": null,
   "metadata": {},
   "outputs": [],
   "source": [
    "pyfolio.create_full_tear_sheet(Markowitz_Returns['Mediana'], benchmark_rets=Markowitz_Returns['Clasico'])"
   ]
  },
  {
   "cell_type": "code",
   "execution_count": null,
   "metadata": {},
   "outputs": [],
   "source": [
    "pyfolio.create_full_tear_sheet(Markowitz_Returns['Mediana Indicadora'], benchmark_rets=Markowitz_Returns['Clasico'])"
   ]
  },
  {
   "cell_type": "code",
   "execution_count": null,
   "metadata": {},
   "outputs": [],
   "source": [
    "pyfolio.create_full_tear_sheet(Markowitz_Returns['Indicadora Invertida'], benchmark_rets=Markowitz_Returns['Clasico'])"
   ]
  },
  {
   "cell_type": "code",
   "execution_count": null,
   "metadata": {},
   "outputs": [],
   "source": [
    "pyfolio.create_full_tear_sheet(Markowitz_Returns['Clasico'])"
   ]
  },
  {
   "cell_type": "code",
   "execution_count": null,
   "metadata": {},
   "outputs": [],
   "source": []
  }
 ],
 "metadata": {
  "kernelspec": {
   "display_name": "Python 3",
   "language": "python",
   "name": "python3"
  },
  "language_info": {
   "codemirror_mode": {
    "name": "ipython",
    "version": 3
   },
   "file_extension": ".py",
   "mimetype": "text/x-python",
   "name": "python",
   "nbconvert_exporter": "python",
   "pygments_lexer": "ipython3",
   "version": "3.7.4"
  }
 },
 "nbformat": 4,
 "nbformat_minor": 4
}
