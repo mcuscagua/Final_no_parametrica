{
 "cells": [
  {
   "cell_type": "code",
   "execution_count": 1,
   "metadata": {},
   "outputs": [
    {
     "name": "stderr",
     "output_type": "stream",
     "text": [
      "C:\\Anaconda3\\lib\\site-packages\\pyfolio\\pos.py:27: UserWarning: Module \"zipline.assets\" not found; mutltipliers will not be applied to position notionals.\n",
      "  'Module \"zipline.assets\" not found; mutltipliers will not be applied' +\n",
      "WARNING (theano.configdefaults): g++ not available, if using conda: `conda install m2w64-toolchain`\n",
      "C:\\Anaconda3\\lib\\site-packages\\theano\\configdefaults.py:560: UserWarning: DeprecationWarning: there is no c++ compiler.This is deprecated and with Theano 0.11 a c++ compiler will be mandatory\n",
      "  warnings.warn(\"DeprecationWarning: there is no c++ compiler.\"\n",
      "WARNING (theano.configdefaults): g++ not detected ! Theano will be unable to execute optimized C-implementations (for both CPU and GPU) and will default to Python implementations. Performance will be severely degraded. To remove this warning, set Theano flags cxx to an empty string.\n",
      "WARNING (theano.tensor.blas): Using NumPy C-API based implementation for BLAS functions.\n"
     ]
    }
   ],
   "source": [
    "import read_data as imp\n",
    "import numpy as np\n",
    "import pandas as pd\n",
    "import matplotlib.pyplot as plt\n",
    "from sklearn.covariance import LedoitWolf\n",
    "import pyfolio\n",
    "\n",
    "import warnings\n",
    "warnings.filterwarnings(\"ignore\")"
   ]
  },
  {
   "cell_type": "code",
   "execution_count": 2,
   "metadata": {},
   "outputs": [],
   "source": [
    "def find_median(x):\n",
    "    aux = [0 for k in range(x.shape[0])]\n",
    "    for i in range(x.shape[0]):\n",
    "        for j in range(x.shape[0]):\n",
    "            aux[i] += np.linalg.norm(x.iloc[i,]-x.iloc[j,])\n",
    "    return x.iloc[aux == min(aux),].iloc[0,]"
   ]
  },
  {
   "cell_type": "code",
   "execution_count": 3,
   "metadata": {},
   "outputs": [],
   "source": [
    "symbols = ['XLP','XLY','XLE','XLF','XLV','XLI','XLK','XLU']\n",
    "years = [x for x in range(2000,2019)]\n",
    "hist_data = imp.organizarTodo(symbols,years)\n",
    "\n",
    "Daily_Assets = pd.DataFrame()\n",
    "Daily_Log_Assets = pd.DataFrame()\n",
    "\n",
    "for asset,df in hist_data.items():\n",
    "    Daily_Assets[asset] = df['Close']\n",
    "    Daily_Log_Assets[asset] = np.log(df['Close']/df['Close'].shift(1))"
   ]
  },
  {
   "cell_type": "code",
   "execution_count": 4,
   "metadata": {},
   "outputs": [],
   "source": [
    "Assets = pd.read_csv('Data.csv')\n",
    "Assets.set_index('Date', inplace=True)\n",
    "Assets.index = pd.to_datetime(Assets.index)\n",
    "Log_Assets = np.log(Assets/Assets.shift(1))\n",
    "Log_Assets = Log_Assets.dropna()"
   ]
  },
  {
   "cell_type": "code",
   "execution_count": 5,
   "metadata": {},
   "outputs": [],
   "source": [
    "np.random.seed(42)\n",
    "num_ports = 10000\n",
    "\n",
    "T_N = 6\n",
    "the_start = np.where(Daily_Assets.index == Log_Assets.index[T_N])[0][0]"
   ]
  },
  {
   "cell_type": "code",
   "execution_count": null,
   "metadata": {},
   "outputs": [],
   "source": [
    "Mark_Ret = np.zeros(Daily_Assets.shape[0]-the_start)\n",
    "RMark_Ret = np.zeros(Daily_Assets.shape[0]-the_start)\n",
    "R2Mark_Ret = np.zeros(Daily_Assets.shape[0]-the_start)\n",
    "\n",
    "Curr_Wi = np.zeros(len(Assets.columns))\n",
    "RCurr_Wi = np.zeros(len(Assets.columns))\n",
    "R2Curr_Wi = np.zeros(len(Assets.columns))\n",
    "\n",
    "WC = pd.DataFrame(index=Log_Assets.index, columns= Log_Assets.columns)\n",
    "WR = pd.DataFrame(index=Log_Assets.index, columns= Log_Assets.columns)\n",
    "WR2 = pd.DataFrame(index=Log_Assets.index, columns= Log_Assets.columns)\n",
    "\n",
    "indaux = T_N\n",
    "\n",
    "for i in range(the_start, Daily_Assets.shape[0]):\n",
    "        \n",
    "    if Daily_Assets.index[i] in Assets.index:\n",
    "        all_weights = np.zeros((num_ports, len(Assets.columns)))\n",
    "        Rall_weights = np.zeros((num_ports, len(Assets.columns)))\n",
    "        R2all_weights = np.zeros((num_ports, len(Assets.columns)))\n",
    "        \n",
    "        sharpe_arr = np.zeros(num_ports)\n",
    "        Rsharpe_arr = np.zeros(num_ports)\n",
    "        R2sharpe_arr = np.zeros(num_ports)\n",
    "\n",
    "        for x in range(num_ports):\n",
    "            # Weights\n",
    "            weights = np.array(np.random.random(len(Assets.columns)))\n",
    "            weights = weights/np.sum(weights)\n",
    "\n",
    "            # Save weights\n",
    "            all_weights[x,:] = weights\n",
    "            Rall_weights[x,:] = weights\n",
    "            R2all_weights[x,:] = weights\n",
    "\n",
    "            # Expected return\n",
    "            ret_arr = np.sum((Log_Assets.iloc[indaux-T_N:indaux,:].mean() * weights * 252))\n",
    "            Rret_arr = np.sum((Log_Assets.iloc[indaux-T_N:indaux,:].median() * weights * 252))\n",
    "            R2ret_arr = np.sum((find_median(Log_Assets.iloc[indaux-T_N:indaux,:]) * weights * 252))\n",
    "\n",
    "            # Expected volatility\n",
    "            vol_arr = np.sqrt(np.dot(weights.T, np.dot(Log_Assets.iloc[indaux-T_N:indaux,:].cov()*252, weights)))\n",
    "            \n",
    "            LW_Cov = LedoitWolf().fit(Log_Assets.iloc[indaux-T_N:indaux,:]).covariance_\n",
    "            Rvol_arr = np.sqrt(np.dot(weights.T, np.dot(LW_Cov*252, weights)))\n",
    "\n",
    "            # Sharpe Ratio\n",
    "            sharpe_arr[x] = ret_arr/vol_arr\n",
    "            Rsharpe_arr[x] = Rret_arr/Rvol_arr\n",
    "            R2sharpe_arr[x] = R2ret_arr/Rvol_arr\n",
    "                       \n",
    "            \n",
    "        Curr_Wi = np.round(all_weights[sharpe_arr.argmax(),:], decimals = 3)\n",
    "        RCurr_Wi = np.round(Rall_weights[Rsharpe_arr.argmax(),:], decimals = 3)\n",
    "        R2Curr_Wi = np.round(Rall_weights[R2sharpe_arr.argmax(),:], decimals = 3)\n",
    "        \n",
    "        WC.iloc[indaux,] = Curr_Wi\n",
    "        WR.iloc[indaux,] = RCurr_Wi\n",
    "        WR2.iloc[indaux,] = R2Curr_Wi\n",
    "        \n",
    "        Mark_Ret[i-the_start] = np.dot(Daily_Log_Assets.iloc[i,],Curr_Wi)\n",
    "        RMark_Ret[i-the_start] = np.dot(Daily_Log_Assets.iloc[i,],RCurr_Wi)\n",
    "        R2Mark_Ret[i-the_start] = np.dot(Daily_Log_Assets.iloc[i,],R2Curr_Wi)\n",
    "        \n",
    "        indaux += 1\n",
    "    else:\n",
    "        Mark_Ret[i-the_start] = np.dot(Daily_Log_Assets.iloc[i,],Curr_Wi)\n",
    "        RMark_Ret[i-the_start] = np.dot(Daily_Log_Assets.iloc[i,],RCurr_Wi)\n",
    "        R2Mark_Ret[i-the_start] = np.dot(Daily_Log_Assets.iloc[i,],R2Curr_Wi)"
   ]
  },
  {
   "cell_type": "markdown",
   "metadata": {},
   "source": [
    "## Weights Behivor"
   ]
  },
  {
   "cell_type": "code",
   "execution_count": null,
   "metadata": {
    "scrolled": true
   },
   "outputs": [],
   "source": [
    "for asset in symbols:\n",
    "    plt.figure(figsize=(17,17))\n",
    "    plt.plot(WC[asset][100:150])\n",
    "    plt.plot(WR[asset][100:150])\n",
    "    plt.plot(WR2[asset][100:150])\n",
    "    plt.legend(['Classic', 'Robust', 'Robust2'])\n",
    "    plt.show()"
   ]
  },
  {
   "cell_type": "markdown",
   "metadata": {},
   "source": [
    "## Comparison"
   ]
  },
  {
   "cell_type": "code",
   "execution_count": null,
   "metadata": {},
   "outputs": [],
   "source": [
    "Markowitz_Comparison = pd.DataFrame()\n",
    "Markowitz_Comparison['Classic'] = Mark_Ret\n",
    "Markowitz_Comparison['Robust'] = RMark_Ret\n",
    "Markowitz_Comparison['Robust2'] = R2Mark_Ret\n",
    "Markowitz_Comparison.index = Daily_Assets.index[the_start:]\n",
    "Markowitz_Comparison = Markowitz_Comparison.astype(float)"
   ]
  },
  {
   "cell_type": "code",
   "execution_count": null,
   "metadata": {},
   "outputs": [],
   "source": [
    "Markowitz_Comparison.to_excel('Resultados 10k portafolios.xlsx')"
   ]
  },
  {
   "cell_type": "code",
   "execution_count": null,
   "metadata": {
    "scrolled": false
   },
   "outputs": [],
   "source": [
    "pyfolio.create_full_tear_sheet(Markowitz_Comparison['Robust2'], benchmark_rets=Markowitz_Comparison['Robust'])\n",
    "plt.show()"
   ]
  },
  {
   "cell_type": "code",
   "execution_count": null,
   "metadata": {
    "scrolled": false
   },
   "outputs": [],
   "source": [
    "pyfolio.create_full_tear_sheet(Markowitz_Comparison['Classic'])#, benchmark_rets=Markowitz_Comparison['Classic'])\n",
    "# plt.show()"
   ]
  },
  {
   "cell_type": "code",
   "execution_count": null,
   "metadata": {
    "scrolled": false
   },
   "outputs": [],
   "source": [
    "pyfolio.create_full_tear_sheet(Markowitz_Comparison['Robust'], benchmark_rets=Markowitz_Comparison['Classic'])"
   ]
  }
 ],
 "metadata": {
  "kernelspec": {
   "display_name": "Python 3",
   "language": "python",
   "name": "python3"
  },
  "language_info": {
   "codemirror_mode": {
    "name": "ipython",
    "version": 3
   },
   "file_extension": ".py",
   "mimetype": "text/x-python",
   "name": "python",
   "nbconvert_exporter": "python",
   "pygments_lexer": "ipython3",
   "version": "3.7.3"
  }
 },
 "nbformat": 4,
 "nbformat_minor": 2
}
